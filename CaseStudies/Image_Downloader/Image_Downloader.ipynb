{
  "nbformat": 4,
  "nbformat_minor": 0,
  "metadata": {
    "colab": {
      "name": "Image_Downloader.ipynb",
      "provenance": [],
      "collapsed_sections": []
    },
    "kernelspec": {
      "name": "python3",
      "display_name": "Python 3"
    }
  },
  "cells": [
    {
      "cell_type": "code",
      "metadata": {
        "id": "OCp4lS9xPZRC",
        "colab_type": "code",
        "colab": {}
      },
      "source": [
        "import argparse\n",
        "import json\n",
        "import itertools\n",
        "import logging\n",
        "import re\n",
        "import os\n",
        "from os import path\n",
        "import uuid\n",
        "import sys\n",
        "from urllib.request import urlopen, Request\n",
        "from bs4 import BeautifulSoup"
      ],
      "execution_count": 0,
      "outputs": []
    },
    {
      "cell_type": "code",
      "metadata": {
        "id": "nFQo4w89TAM5",
        "colab_type": "code",
        "colab": {}
      },
      "source": [
        "REQUEST_HEADER = {\n",
        "    'User-Agent': \"Mozilla/5.0 (Windows NT 6.1; WOW64) AppleWebKit/537.36 (KHTML, like Gecko) Chrome/43.0.2357.134 Safari/537.36\"}\n",
        "def get_query_url(query):\n",
        "    # https://www.google.com/search?q=banana&source=lnms&tbm=isch\n",
        "    return \"https://www.google.co.in/search?q=%s&source=lnms&tbm=isch\" % query\n",
        "\n",
        "def get_soup(url, request_header):\n",
        "    response = urlopen(Request(url, headers=request_header))\n",
        "    return BeautifulSoup(response, 'html.parser')\n",
        "def extract_images_from_response(soup):\n",
        "    image_elements = soup.find_all(\"div\", {\"class\": \"rg_meta\"})\n",
        "    metadata_dicts = (json.loads(e.text) for e in image_elements)\n",
        "    /print(metadata_dicts)\n",
        "    link_type_records = ((d[\"ou\"], d[\"ity\"]) for d in metadata_dicts)\n",
        "    return link_type_records\n",
        "\n",
        "def extract_images(query, num_images):\n",
        "  url = get_query_url(query)\n",
        "  soup = get_soup(url,REQUEST_HEADER)\n",
        "  link_type_records = extract_images_from_response(soup)\n",
        "  return itertools.islice(link_type_records, num_images)\n"
      ],
      "execution_count": 0,
      "outputs": []
    },
    {
      "cell_type": "code",
      "metadata": {
        "id": "d0BCvEzhdlbd",
        "colab_type": "code",
        "colab": {}
      },
      "source": [
        "def configure_logging():\n",
        "    logger = logging.getLogger()\n",
        "    logger.setLevel(logging.DEBUG)\n",
        "    handler = logging.StreamHandler()\n",
        "    handler.setFormatter(\n",
        "        logging.Formatter('[%(asctime)s %(levelname)s %(module)s]: %(message)s'))\n",
        "    logger.addHandler(handler)\n",
        "    Filehandler = logging.FileHandler(\"G:\\log.txt\") #Path to your LOG FILE.\n",
        "    Filehandler.setFormatter(\n",
        "        logging.Formatter('[%(asctime)s %(levelname)s %(module)s]: %(message)s'))\n",
        "    logger.addHandler(Filehandler)\n",
        "    \n",
        "    return logger\n",
        "\n",
        "logger = configure_logging()\n",
        "\n",
        "def get_raw_image(url):\n",
        "    req = Request(url, headers=REQUEST_HEADER)\n",
        "    resp = urlopen(req)\n",
        "    return resp.read()\n",
        "\n",
        "def save_image(raw_image, image_type, save_directory):\n",
        "    extension = image_type if image_type else 'jpg'\n",
        "    file_name = uuid.uuid4().hex + \".\" + extension\n",
        "    save_path = os.path.join(save_directory, file_name)\n",
        "    with open(save_path, 'wb') as image_file:\n",
        "        image_file.write(raw_image)\n",
        "\n",
        "def download_images_to_dir(images, save_directory, num_images):\n",
        "    for i, (url, image_type) in enumerate(images):\n",
        "        try:\n",
        "            logger.info(\"Making request (%d/%d): %s\", i, num_images, url)\n",
        "            raw_image = get_raw_image(url)\n",
        "            save_image(raw_image, image_type, save_directory)\n",
        "        except Exception as e:\n",
        "            logger.exception(e)"
      ],
      "execution_count": 0,
      "outputs": []
    },
    {
      "cell_type": "code",
      "metadata": {
        "id": "KoMhpLqdSsTx",
        "colab_type": "code",
        "colab": {}
      },
      "source": [
        "def run(query, download_dir, num_images):\n",
        "    query = '+'.join(query.split())\n",
        "    print(\"Extracting image links\")\n",
        "    images = extract_images(query, num_images)\n",
        "    print(\"Downloading images\")\n",
        "    print(images)\n",
        "    download_images_to_dir(images, download_dir, num_images)\n",
        "    print(\"Finished\")"
      ],
      "execution_count": 0,
      "outputs": []
    },
    {
      "cell_type": "code",
      "metadata": {
        "id": "hIDoqbSNQRop",
        "colab_type": "code",
        "colab": {
          "base_uri": "https://localhost:8080/",
          "height": 1000
        },
        "outputId": "b1eaa3e9-f014-4312-afcf-54e581045ad9"
      },
      "source": [
        "def main():\n",
        "      searchText = 'banana' # Default search text\n",
        "      numImages = 10  # Default search download images count\n",
        "      if 'google.colab' in sys.modules:    \n",
        "        from google.colab import drive\n",
        "        drive.mount('/gdrive')\n",
        "        download_dir = '/gdrive/My Drive/greatlakes/Capstone/POC/download/' + searchText\n",
        "      else:\n",
        "        download_dir = 'c:/greatlakes/Capstone/POC/download/' + searchText\n",
        "      if not path.exists(download_dir):\n",
        "        os.makedirs(download_dir)\n",
        "      run(searchText, download_dir, numImages)\n",
        "\n",
        "if __name__ == '__main__':\n",
        "  main()"
      ],
      "execution_count": 46,
      "outputs": [
        {
          "output_type": "stream",
          "text": [
            "Drive already mounted at /gdrive; to attempt to forcibly remount, call drive.mount(\"/gdrive\", force_remount=True).\n",
            "Extracting image links\n"
          ],
          "name": "stdout"
        },
        {
          "output_type": "stream",
          "text": [
            "[2019-12-27 08:58:48,384 DEBUG charsetgroupprober]: utf-8  confidence = 0.99\n",
            "[2019-12-27 08:58:48,384 DEBUG charsetgroupprober]: utf-8  confidence = 0.99\n",
            "[2019-12-27 08:58:48,384 DEBUG charsetgroupprober]: utf-8  confidence = 0.99\n",
            "[2019-12-27 08:58:48,389 DEBUG charsetgroupprober]: SHIFT_JIS Japanese confidence = 0.01\n",
            "[2019-12-27 08:58:48,389 DEBUG charsetgroupprober]: SHIFT_JIS Japanese confidence = 0.01\n",
            "[2019-12-27 08:58:48,389 DEBUG charsetgroupprober]: SHIFT_JIS Japanese confidence = 0.01\n",
            "[2019-12-27 08:58:48,396 DEBUG charsetgroupprober]: EUC-JP Japanese confidence = 0.01\n",
            "[2019-12-27 08:58:48,396 DEBUG charsetgroupprober]: EUC-JP Japanese confidence = 0.01\n",
            "[2019-12-27 08:58:48,396 DEBUG charsetgroupprober]: EUC-JP Japanese confidence = 0.01\n",
            "[2019-12-27 08:58:48,403 DEBUG charsetgroupprober]: GB2312 Chinese confidence = 0.01\n",
            "[2019-12-27 08:58:48,403 DEBUG charsetgroupprober]: GB2312 Chinese confidence = 0.01\n",
            "[2019-12-27 08:58:48,403 DEBUG charsetgroupprober]: GB2312 Chinese confidence = 0.01\n",
            "[2019-12-27 08:58:48,408 DEBUG charsetgroupprober]: EUC-KR Korean confidence = 0.01\n",
            "[2019-12-27 08:58:48,408 DEBUG charsetgroupprober]: EUC-KR Korean confidence = 0.01\n",
            "[2019-12-27 08:58:48,408 DEBUG charsetgroupprober]: EUC-KR Korean confidence = 0.01\n",
            "[2019-12-27 08:58:48,413 DEBUG charsetgroupprober]: CP949 Korean confidence = 0.01\n",
            "[2019-12-27 08:58:48,413 DEBUG charsetgroupprober]: CP949 Korean confidence = 0.01\n",
            "[2019-12-27 08:58:48,413 DEBUG charsetgroupprober]: CP949 Korean confidence = 0.01\n",
            "[2019-12-27 08:58:48,419 DEBUG charsetgroupprober]: Big5 Chinese confidence = 0.01\n",
            "[2019-12-27 08:58:48,419 DEBUG charsetgroupprober]: Big5 Chinese confidence = 0.01\n",
            "[2019-12-27 08:58:48,419 DEBUG charsetgroupprober]: Big5 Chinese confidence = 0.01\n",
            "[2019-12-27 08:58:48,424 DEBUG charsetgroupprober]: EUC-TW Taiwan confidence = 0.01\n",
            "[2019-12-27 08:58:48,424 DEBUG charsetgroupprober]: EUC-TW Taiwan confidence = 0.01\n",
            "[2019-12-27 08:58:48,424 DEBUG charsetgroupprober]: EUC-TW Taiwan confidence = 0.01\n",
            "[2019-12-27 08:58:48,428 DEBUG charsetgroupprober]: windows-1251 Russian confidence = 0.01\n",
            "[2019-12-27 08:58:48,428 DEBUG charsetgroupprober]: windows-1251 Russian confidence = 0.01\n",
            "[2019-12-27 08:58:48,428 DEBUG charsetgroupprober]: windows-1251 Russian confidence = 0.01\n",
            "[2019-12-27 08:58:48,431 DEBUG charsetgroupprober]: KOI8-R Russian confidence = 0.01\n",
            "[2019-12-27 08:58:48,431 DEBUG charsetgroupprober]: KOI8-R Russian confidence = 0.01\n",
            "[2019-12-27 08:58:48,431 DEBUG charsetgroupprober]: KOI8-R Russian confidence = 0.01\n",
            "[2019-12-27 08:58:48,435 DEBUG charsetgroupprober]: ISO-8859-5 Russian confidence = 0.0\n",
            "[2019-12-27 08:58:48,435 DEBUG charsetgroupprober]: ISO-8859-5 Russian confidence = 0.0\n",
            "[2019-12-27 08:58:48,435 DEBUG charsetgroupprober]: ISO-8859-5 Russian confidence = 0.0\n",
            "[2019-12-27 08:58:48,438 DEBUG charsetgroupprober]: MacCyrillic Russian confidence = 0.0\n",
            "[2019-12-27 08:58:48,438 DEBUG charsetgroupprober]: MacCyrillic Russian confidence = 0.0\n",
            "[2019-12-27 08:58:48,438 DEBUG charsetgroupprober]: MacCyrillic Russian confidence = 0.0\n",
            "[2019-12-27 08:58:48,441 DEBUG charsetgroupprober]: IBM866 Russian confidence = 0.0\n",
            "[2019-12-27 08:58:48,441 DEBUG charsetgroupprober]: IBM866 Russian confidence = 0.0\n",
            "[2019-12-27 08:58:48,441 DEBUG charsetgroupprober]: IBM866 Russian confidence = 0.0\n",
            "[2019-12-27 08:58:48,444 DEBUG charsetgroupprober]: IBM855 Russian confidence = 0.01\n",
            "[2019-12-27 08:58:48,444 DEBUG charsetgroupprober]: IBM855 Russian confidence = 0.01\n",
            "[2019-12-27 08:58:48,444 DEBUG charsetgroupprober]: IBM855 Russian confidence = 0.01\n",
            "[2019-12-27 08:58:48,447 DEBUG charsetgroupprober]: ISO-8859-7 Greek confidence = 0.0\n",
            "[2019-12-27 08:58:48,447 DEBUG charsetgroupprober]: ISO-8859-7 Greek confidence = 0.0\n",
            "[2019-12-27 08:58:48,447 DEBUG charsetgroupprober]: ISO-8859-7 Greek confidence = 0.0\n",
            "[2019-12-27 08:58:48,451 DEBUG charsetgroupprober]: windows-1253 Greek confidence = 0.0\n",
            "[2019-12-27 08:58:48,451 DEBUG charsetgroupprober]: windows-1253 Greek confidence = 0.0\n",
            "[2019-12-27 08:58:48,451 DEBUG charsetgroupprober]: windows-1253 Greek confidence = 0.0\n",
            "[2019-12-27 08:58:48,454 DEBUG charsetgroupprober]: ISO-8859-5 Bulgairan confidence = 0.0\n",
            "[2019-12-27 08:58:48,454 DEBUG charsetgroupprober]: ISO-8859-5 Bulgairan confidence = 0.0\n",
            "[2019-12-27 08:58:48,454 DEBUG charsetgroupprober]: ISO-8859-5 Bulgairan confidence = 0.0\n",
            "[2019-12-27 08:58:48,457 DEBUG charsetgroupprober]: windows-1251 Bulgarian confidence = 0.0\n",
            "[2019-12-27 08:58:48,457 DEBUG charsetgroupprober]: windows-1251 Bulgarian confidence = 0.0\n",
            "[2019-12-27 08:58:48,457 DEBUG charsetgroupprober]: windows-1251 Bulgarian confidence = 0.0\n",
            "[2019-12-27 08:58:48,460 DEBUG charsetgroupprober]: TIS-620 Thai confidence = 0.0\n",
            "[2019-12-27 08:58:48,460 DEBUG charsetgroupprober]: TIS-620 Thai confidence = 0.0\n",
            "[2019-12-27 08:58:48,460 DEBUG charsetgroupprober]: TIS-620 Thai confidence = 0.0\n",
            "[2019-12-27 08:58:48,463 DEBUG charsetgroupprober]: ISO-8859-9 Turkish confidence = 0.33823101193810506\n",
            "[2019-12-27 08:58:48,463 DEBUG charsetgroupprober]: ISO-8859-9 Turkish confidence = 0.33823101193810506\n",
            "[2019-12-27 08:58:48,463 DEBUG charsetgroupprober]: ISO-8859-9 Turkish confidence = 0.33823101193810506\n",
            "[2019-12-27 08:58:48,466 DEBUG charsetgroupprober]: windows-1255 Hebrew confidence = 0.0\n",
            "[2019-12-27 08:58:48,466 DEBUG charsetgroupprober]: windows-1255 Hebrew confidence = 0.0\n",
            "[2019-12-27 08:58:48,466 DEBUG charsetgroupprober]: windows-1255 Hebrew confidence = 0.0\n",
            "[2019-12-27 08:58:48,470 DEBUG charsetgroupprober]: windows-1255 Hebrew confidence = 0.0\n",
            "[2019-12-27 08:58:48,470 DEBUG charsetgroupprober]: windows-1255 Hebrew confidence = 0.0\n",
            "[2019-12-27 08:58:48,470 DEBUG charsetgroupprober]: windows-1255 Hebrew confidence = 0.0\n",
            "[2019-12-27 08:58:48,473 DEBUG charsetgroupprober]: windows-1255 Hebrew confidence = 0.0\n",
            "[2019-12-27 08:58:48,473 DEBUG charsetgroupprober]: windows-1255 Hebrew confidence = 0.0\n",
            "[2019-12-27 08:58:48,473 DEBUG charsetgroupprober]: windows-1255 Hebrew confidence = 0.0\n",
            "[2019-12-27 08:58:48,476 DEBUG charsetgroupprober]: utf-8  confidence = 0.99\n",
            "[2019-12-27 08:58:48,476 DEBUG charsetgroupprober]: utf-8  confidence = 0.99\n",
            "[2019-12-27 08:58:48,476 DEBUG charsetgroupprober]: utf-8  confidence = 0.99\n",
            "[2019-12-27 08:58:48,479 DEBUG charsetgroupprober]: SHIFT_JIS Japanese confidence = 0.01\n",
            "[2019-12-27 08:58:48,479 DEBUG charsetgroupprober]: SHIFT_JIS Japanese confidence = 0.01\n",
            "[2019-12-27 08:58:48,479 DEBUG charsetgroupprober]: SHIFT_JIS Japanese confidence = 0.01\n",
            "[2019-12-27 08:58:48,482 DEBUG charsetgroupprober]: EUC-JP Japanese confidence = 0.01\n",
            "[2019-12-27 08:58:48,482 DEBUG charsetgroupprober]: EUC-JP Japanese confidence = 0.01\n",
            "[2019-12-27 08:58:48,482 DEBUG charsetgroupprober]: EUC-JP Japanese confidence = 0.01\n",
            "[2019-12-27 08:58:48,485 DEBUG charsetgroupprober]: GB2312 Chinese confidence = 0.01\n",
            "[2019-12-27 08:58:48,485 DEBUG charsetgroupprober]: GB2312 Chinese confidence = 0.01\n",
            "[2019-12-27 08:58:48,485 DEBUG charsetgroupprober]: GB2312 Chinese confidence = 0.01\n",
            "[2019-12-27 08:58:48,488 DEBUG charsetgroupprober]: EUC-KR Korean confidence = 0.01\n",
            "[2019-12-27 08:58:48,488 DEBUG charsetgroupprober]: EUC-KR Korean confidence = 0.01\n",
            "[2019-12-27 08:58:48,488 DEBUG charsetgroupprober]: EUC-KR Korean confidence = 0.01\n",
            "[2019-12-27 08:58:48,491 DEBUG charsetgroupprober]: CP949 Korean confidence = 0.01\n",
            "[2019-12-27 08:58:48,491 DEBUG charsetgroupprober]: CP949 Korean confidence = 0.01\n",
            "[2019-12-27 08:58:48,491 DEBUG charsetgroupprober]: CP949 Korean confidence = 0.01\n",
            "[2019-12-27 08:58:48,494 DEBUG charsetgroupprober]: Big5 Chinese confidence = 0.01\n",
            "[2019-12-27 08:58:48,494 DEBUG charsetgroupprober]: Big5 Chinese confidence = 0.01\n",
            "[2019-12-27 08:58:48,494 DEBUG charsetgroupprober]: Big5 Chinese confidence = 0.01\n",
            "[2019-12-27 08:58:48,498 DEBUG charsetgroupprober]: EUC-TW Taiwan confidence = 0.01\n",
            "[2019-12-27 08:58:48,498 DEBUG charsetgroupprober]: EUC-TW Taiwan confidence = 0.01\n",
            "[2019-12-27 08:58:48,498 DEBUG charsetgroupprober]: EUC-TW Taiwan confidence = 0.01\n",
            "[2019-12-27 08:58:48,703 INFO <ipython-input-41-937eff8ee61c>]: Making request (0/10): https://api.time.com/wp-content/uploads/2019/11/gettyimages-459761948.jpg?w=600&quality=85\n",
            "[2019-12-27 08:58:48,703 INFO <ipython-input-41-937eff8ee61c>]: Making request (0/10): https://api.time.com/wp-content/uploads/2019/11/gettyimages-459761948.jpg?w=600&quality=85\n",
            "[2019-12-27 08:58:48,703 INFO <ipython-input-41-937eff8ee61c>]: Making request (0/10): https://api.time.com/wp-content/uploads/2019/11/gettyimages-459761948.jpg?w=600&quality=85\n",
            "[2019-12-27 08:58:48,816 INFO <ipython-input-41-937eff8ee61c>]: Making request (1/10): https://cdn.mos.cms.futurecdn.net/42E9as7NaTaAi4A6JcuFwG-320-80.jpg\n",
            "[2019-12-27 08:58:48,816 INFO <ipython-input-41-937eff8ee61c>]: Making request (1/10): https://cdn.mos.cms.futurecdn.net/42E9as7NaTaAi4A6JcuFwG-320-80.jpg\n",
            "[2019-12-27 08:58:48,816 INFO <ipython-input-41-937eff8ee61c>]: Making request (1/10): https://cdn.mos.cms.futurecdn.net/42E9as7NaTaAi4A6JcuFwG-320-80.jpg\n"
          ],
          "name": "stderr"
        },
        {
          "output_type": "stream",
          "text": [
            "<generator object extract_images_from_response.<locals>.<genexpr> at 0x7fa23b7b8410>\n",
            "Downloading images\n",
            "<itertools.islice object at 0x7fa2395320e8>\n"
          ],
          "name": "stdout"
        },
        {
          "output_type": "stream",
          "text": [
            "[2019-12-27 08:58:49,014 INFO <ipython-input-41-937eff8ee61c>]: Making request (2/10): https://thumbs-prod.si-cdn.com/_oO5E4sOE9Ep-qk_kuJ945_-qo4=/800x600/filters:no_upscale()/https://public-media.si-cdn.com/filer/d5/24/d5243019-e0fc-4b3c-8cdb-48e22f38bff2/istock-183380744.jpg\n",
            "[2019-12-27 08:58:49,014 INFO <ipython-input-41-937eff8ee61c>]: Making request (2/10): https://thumbs-prod.si-cdn.com/_oO5E4sOE9Ep-qk_kuJ945_-qo4=/800x600/filters:no_upscale()/https://public-media.si-cdn.com/filer/d5/24/d5243019-e0fc-4b3c-8cdb-48e22f38bff2/istock-183380744.jpg\n",
            "[2019-12-27 08:58:49,014 INFO <ipython-input-41-937eff8ee61c>]: Making request (2/10): https://thumbs-prod.si-cdn.com/_oO5E4sOE9Ep-qk_kuJ945_-qo4=/800x600/filters:no_upscale()/https://public-media.si-cdn.com/filer/d5/24/d5243019-e0fc-4b3c-8cdb-48e22f38bff2/istock-183380744.jpg\n",
            "[2019-12-27 08:58:49,125 INFO <ipython-input-41-937eff8ee61c>]: Making request (3/10): https://i5.walmartimages.com/asr/209bb8a0-30ab-46be-b38d-58c2feb93e4a_1.1a15fb5bcbecbadd4a45822a11bf6257.jpeg?odnWidth=450&odnHeight=450&odnBg=ffffff\n",
            "[2019-12-27 08:58:49,125 INFO <ipython-input-41-937eff8ee61c>]: Making request (3/10): https://i5.walmartimages.com/asr/209bb8a0-30ab-46be-b38d-58c2feb93e4a_1.1a15fb5bcbecbadd4a45822a11bf6257.jpeg?odnWidth=450&odnHeight=450&odnBg=ffffff\n",
            "[2019-12-27 08:58:49,125 INFO <ipython-input-41-937eff8ee61c>]: Making request (3/10): https://i5.walmartimages.com/asr/209bb8a0-30ab-46be-b38d-58c2feb93e4a_1.1a15fb5bcbecbadd4a45822a11bf6257.jpeg?odnWidth=450&odnHeight=450&odnBg=ffffff\n",
            "[2019-12-27 08:58:49,247 INFO <ipython-input-41-937eff8ee61c>]: Making request (4/10): https://article.images.consumerreports.org/f_auto/prod/content/dam/CRO%20Images%202018/Health/April/CR-Health-Inlinehero-bananas-good-for-you-0418\n",
            "[2019-12-27 08:58:49,247 INFO <ipython-input-41-937eff8ee61c>]: Making request (4/10): https://article.images.consumerreports.org/f_auto/prod/content/dam/CRO%20Images%202018/Health/April/CR-Health-Inlinehero-bananas-good-for-you-0418\n",
            "[2019-12-27 08:58:49,247 INFO <ipython-input-41-937eff8ee61c>]: Making request (4/10): https://article.images.consumerreports.org/f_auto/prod/content/dam/CRO%20Images%202018/Health/April/CR-Health-Inlinehero-bananas-good-for-you-0418\n",
            "[2019-12-27 08:58:49,380 INFO <ipython-input-41-937eff8ee61c>]: Making request (5/10): https://images-na.ssl-images-amazon.com/images/I/61fZ%2BYAYGaL._SL1500_.jpg\n",
            "[2019-12-27 08:58:49,380 INFO <ipython-input-41-937eff8ee61c>]: Making request (5/10): https://images-na.ssl-images-amazon.com/images/I/61fZ%2BYAYGaL._SL1500_.jpg\n",
            "[2019-12-27 08:58:49,380 INFO <ipython-input-41-937eff8ee61c>]: Making request (5/10): https://images-na.ssl-images-amazon.com/images/I/61fZ%2BYAYGaL._SL1500_.jpg\n",
            "[2019-12-27 08:58:49,457 INFO <ipython-input-41-937eff8ee61c>]: Making request (6/10): https://images.agoramedia.com/everydayhealth/gcms/All-About-Bananas-Nutrition-Facts-Health-Benefits-Recipes-and-More-RM-722x406.jpg\n",
            "[2019-12-27 08:58:49,457 INFO <ipython-input-41-937eff8ee61c>]: Making request (6/10): https://images.agoramedia.com/everydayhealth/gcms/All-About-Bananas-Nutrition-Facts-Health-Benefits-Recipes-and-More-RM-722x406.jpg\n",
            "[2019-12-27 08:58:49,457 INFO <ipython-input-41-937eff8ee61c>]: Making request (6/10): https://images.agoramedia.com/everydayhealth/gcms/All-About-Bananas-Nutrition-Facts-Health-Benefits-Recipes-and-More-RM-722x406.jpg\n",
            "[2019-12-27 08:58:49,617 INFO <ipython-input-41-937eff8ee61c>]: Making request (7/10): https://pocket-image-cache.com/direct?url=https%3A%2F%2Fpocket-syndicated-images.s3.amazonaws.com%2F5c2a5c62eaa42.jpg\n",
            "[2019-12-27 08:58:49,617 INFO <ipython-input-41-937eff8ee61c>]: Making request (7/10): https://pocket-image-cache.com/direct?url=https%3A%2F%2Fpocket-syndicated-images.s3.amazonaws.com%2F5c2a5c62eaa42.jpg\n",
            "[2019-12-27 08:58:49,617 INFO <ipython-input-41-937eff8ee61c>]: Making request (7/10): https://pocket-image-cache.com/direct?url=https%3A%2F%2Fpocket-syndicated-images.s3.amazonaws.com%2F5c2a5c62eaa42.jpg\n",
            "[2019-12-27 08:58:49,727 INFO <ipython-input-41-937eff8ee61c>]: Making request (8/10): https://a57.foxnews.com/static.foxbusiness.com/foxbusiness.com/content/uploads/2019/12/0/0/Banana-iStock.jpg?ve=1&tl=1\n",
            "[2019-12-27 08:58:49,727 INFO <ipython-input-41-937eff8ee61c>]: Making request (8/10): https://a57.foxnews.com/static.foxbusiness.com/foxbusiness.com/content/uploads/2019/12/0/0/Banana-iStock.jpg?ve=1&tl=1\n",
            "[2019-12-27 08:58:49,727 INFO <ipython-input-41-937eff8ee61c>]: Making request (8/10): https://a57.foxnews.com/static.foxbusiness.com/foxbusiness.com/content/uploads/2019/12/0/0/Banana-iStock.jpg?ve=1&tl=1\n",
            "[2019-12-27 08:58:49,805 INFO <ipython-input-41-937eff8ee61c>]: Making request (9/10): https://media2.s-nbcnews.com/i/newscms/2019_17/1429855/banana-main-fruit-peel_a7a8c6ce60a36207efcc44ab86788d4f.jpg\n",
            "[2019-12-27 08:58:49,805 INFO <ipython-input-41-937eff8ee61c>]: Making request (9/10): https://media2.s-nbcnews.com/i/newscms/2019_17/1429855/banana-main-fruit-peel_a7a8c6ce60a36207efcc44ab86788d4f.jpg\n",
            "[2019-12-27 08:58:49,805 INFO <ipython-input-41-937eff8ee61c>]: Making request (9/10): https://media2.s-nbcnews.com/i/newscms/2019_17/1429855/banana-main-fruit-peel_a7a8c6ce60a36207efcc44ab86788d4f.jpg\n"
          ],
          "name": "stderr"
        },
        {
          "output_type": "stream",
          "text": [
            "Finished\n"
          ],
          "name": "stdout"
        }
      ]
    },
    {
      "cell_type": "code",
      "metadata": {
        "id": "834V8yJPZYe7",
        "colab_type": "code",
        "colab": {}
      },
      "source": [
        ""
      ],
      "execution_count": 0,
      "outputs": []
    }
  ]
}